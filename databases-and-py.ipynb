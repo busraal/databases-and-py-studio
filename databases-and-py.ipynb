{
    "metadata": {
        "kernelspec": {
            "name": "python3",
            "display_name": "Python 3 (ipykernel)",
            "language": "python"
        },
        "language_info": {
            "name": "python",
            "version": "3.9.7",
            "mimetype": "text/x-python",
            "codemirror_mode": {
                "name": "ipython",
                "version": 3
            },
            "pygments_lexer": "ipython3",
            "nbconvert_exporter": "python",
            "file_extension": ".py"
        }
    },
    "nbformat_minor": 2,
    "nbformat": 4,
    "cells": [
        {
            "cell_type": "markdown",
            "source": [
                "# Studio: Working with Databases in Python\n",
                "\n",
                "For today's studio, we will be using the [TV Shows dataset](https://www.kaggle.com/ruchi798/tv-shows-on-netflix-prime-video-hulu-and-disney) from Kaggle. We have already downloaded the CSV for you.\n",
                "\n",
                "You will also be using the watchlist you just created to figure out which streaming services contain the shows that you want to watch next so you can decide which one is worth the money to you.\n",
                "\n",
                "As you complete the different tasks in the studio, you may choose between using Pandas or SQL. Remember that during the prep work, we learned that one is oftentimes more efficient at certain tasks than the other, so choose wisely!"
            ],
            "metadata": {
                "azdata_cell_guid": "54326aff-51cd-4766-8046-828a92489c6d"
            },
            "attachments": {}
        },
        {
            "cell_type": "markdown",
            "source": [
                "## My Watchlist\n",
                "\n",
                "If you would like, please use this space to make note of your watchlist by editing the text cell.\n",
                "\n",
                "Gilmore Girls\n",
                "\n",
                "Ted Lasso\n",
                "\n",
                "Marvelous Mrs. Maisel\n",
                "\n",
                "Bun Heads \n",
                "\n",
                "The Wilds\n",
                "\n",
                "The Walking Dead\n",
                "\n",
                "Stranger Things\n",
                "\n",
                "Seinfeld\n",
                "\n",
                "Comedians In Cars Getting Coffee\n",
                "\n",
                "Mad Men"
            ],
            "metadata": {
                "azdata_cell_guid": "00bc62ef-6c46-40a2-bdad-a3250a003ce7"
            },
            "attachments": {}
        },
        {
            "cell_type": "markdown",
            "source": [
                "## Database Setup\n",
                "\n",
                "To start with, import the necessary libraries and create a dataframe from the provided CSV. Print the info out for the dataframe. After that, you may drop the column called `Unnamed: 0` and rename any columns with spaces in the names or unusual characters such as `\"+\"`. Print out the info for the dataframe again to ensure that your changes were effective."
            ],
            "metadata": {
                "azdata_cell_guid": "040bdac5-f7fc-474f-b112-1d807249ad0a"
            }
        },
        {
            "cell_type": "code",
            "source": [
                "import sqlite3 as sl\n",
                "import pandas as pd"
            ],
            "metadata": {
                "azdata_cell_guid": "965f15d3-27b1-43ed-97e4-8c6fd482476c",
                "tags": [],
                "language": "python"
            },
            "outputs": [],
            "execution_count": 1
        },
        {
            "cell_type": "code",
            "source": [
                "data = pd.read_csv('tv_shows.csv', index_col=[0])\n",
                "data.rename(columns={'Rotten Tomatoes' : 'Rotten_Tomatoes', 'Prime Video' : 'Prime_Video', 'Disney+' : 'Disney_Plus'})\n",
                "\n",
                "data.head()"
            ],
            "metadata": {
                "azdata_cell_guid": "d59b6bae-0f5b-426d-a7aa-c73fba814670",
                "language": "python"
            },
            "outputs": [
                {
                    "data": {
                        "text/plain": "   ID             Title  Year  Age    IMDb Rotten Tomatoes  Netflix  Hulu  \\\n0   1      Breaking Bad  2008  18+  9.4/10         100/100        1     0   \n1   2   Stranger Things  2016  16+  8.7/10          96/100        1     0   \n2   3   Attack on Titan  2013  18+  9.0/10          95/100        1     1   \n3   4  Better Call Saul  2015  18+  8.8/10          94/100        1     0   \n4   5              Dark  2017  16+  8.8/10          93/100        1     0   \n\n   Prime Video  Disney+  Type  \n0            0        0     1  \n1            0        0     1  \n2            0        0     1  \n3            0        0     1  \n4            0        0     1  ",
                        "text/html": "<div>\n<style scoped>\n    .dataframe tbody tr th:only-of-type {\n        vertical-align: middle;\n    }\n\n    .dataframe tbody tr th {\n        vertical-align: top;\n    }\n\n    .dataframe thead th {\n        text-align: right;\n    }\n</style>\n<table border=\"1\" class=\"dataframe\">\n  <thead>\n    <tr style=\"text-align: right;\">\n      <th></th>\n      <th>ID</th>\n      <th>Title</th>\n      <th>Year</th>\n      <th>Age</th>\n      <th>IMDb</th>\n      <th>Rotten Tomatoes</th>\n      <th>Netflix</th>\n      <th>Hulu</th>\n      <th>Prime Video</th>\n      <th>Disney+</th>\n      <th>Type</th>\n    </tr>\n  </thead>\n  <tbody>\n    <tr>\n      <th>0</th>\n      <td>1</td>\n      <td>Breaking Bad</td>\n      <td>2008</td>\n      <td>18+</td>\n      <td>9.4/10</td>\n      <td>100/100</td>\n      <td>1</td>\n      <td>0</td>\n      <td>0</td>\n      <td>0</td>\n      <td>1</td>\n    </tr>\n    <tr>\n      <th>1</th>\n      <td>2</td>\n      <td>Stranger Things</td>\n      <td>2016</td>\n      <td>16+</td>\n      <td>8.7/10</td>\n      <td>96/100</td>\n      <td>1</td>\n      <td>0</td>\n      <td>0</td>\n      <td>0</td>\n      <td>1</td>\n    </tr>\n    <tr>\n      <th>2</th>\n      <td>3</td>\n      <td>Attack on Titan</td>\n      <td>2013</td>\n      <td>18+</td>\n      <td>9.0/10</td>\n      <td>95/100</td>\n      <td>1</td>\n      <td>1</td>\n      <td>0</td>\n      <td>0</td>\n      <td>1</td>\n    </tr>\n    <tr>\n      <th>3</th>\n      <td>4</td>\n      <td>Better Call Saul</td>\n      <td>2015</td>\n      <td>18+</td>\n      <td>8.8/10</td>\n      <td>94/100</td>\n      <td>1</td>\n      <td>0</td>\n      <td>0</td>\n      <td>0</td>\n      <td>1</td>\n    </tr>\n    <tr>\n      <th>4</th>\n      <td>5</td>\n      <td>Dark</td>\n      <td>2017</td>\n      <td>16+</td>\n      <td>8.8/10</td>\n      <td>93/100</td>\n      <td>1</td>\n      <td>0</td>\n      <td>0</td>\n      <td>0</td>\n      <td>1</td>\n    </tr>\n  </tbody>\n</table>\n</div>"
                    },
                    "metadata": {},
                    "execution_count": 2,
                    "output_type": "execute_result"
                }
            ],
            "execution_count": 2
        },
        {
            "cell_type": "markdown",
            "source": [
                "With your dataframe at the ready, create a new database called `tv`. Add a new table to your database called `shows` using the data in the dataframe. "
            ],
            "metadata": {
                "azdata_cell_guid": "93875e01-f1ec-45ab-b8b3-c0fe09c89c41"
            },
            "attachments": {}
        },
        {
            "cell_type": "code",
            "source": [
                "con = sl.connect('tv.db')\n",
                "\n",
                "with con:\n",
                "    con.execute(\"\"\"\n",
                "        CREATE TABLE shows (\n",
                "            ID INT,\n",
                "            Title TEXT,\n",
                "            Year INT,\n",
                "            Age TEXT,\n",
                "            IMDB TEXT,\n",
                "            Rotten_Tomatoes TEXT,\n",
                "            Netflix INT,\n",
                "            Hulu INT,\n",
                "            Prime_Video INT,\n",
                "            Disney_Plus INT,\n",
                "            Type INT\n",
                "        );\n",
                "    \"\"\")"
            ],
            "metadata": {
                "azdata_cell_guid": "cae4affc-d930-4649-9c39-551475a83b5b",
                "tags": [],
                "language": "python"
            },
            "outputs": [],
            "execution_count": 15
        },
        {
            "cell_type": "code",
            "source": [
                "data.to_sql('shows', con)"
            ],
            "metadata": {
                "azdata_cell_guid": "6da8f221-ff83-4044-84ba-168bb302383e",
                "language": "python"
            },
            "outputs": [
                {
                    "traceback": [
                        "\u001b[0;31m---------------------------------------------------------------------------\u001b[0m",
                        "\u001b[0;31mValueError\u001b[0m                                Traceback (most recent call last)",
                        "\u001b[0;32m/var/folders/9d/0zxf51214m19bkwdsv07cxgw0000gn/T/ipykernel_5794/1384034974.py\u001b[0m in \u001b[0;36m<module>\u001b[0;34m\u001b[0m\n\u001b[0;32m----> 1\u001b[0;31m \u001b[0mdata\u001b[0m\u001b[0;34m.\u001b[0m\u001b[0mto_sql\u001b[0m\u001b[0;34m(\u001b[0m\u001b[0;34m'shows'\u001b[0m\u001b[0;34m,\u001b[0m \u001b[0mcon\u001b[0m\u001b[0;34m)\u001b[0m\u001b[0;34m\u001b[0m\u001b[0;34m\u001b[0m\u001b[0m\n\u001b[0m",
                        "\u001b[0;32m~/.local/lib/python3.9/site-packages/pandas/core/generic.py\u001b[0m in \u001b[0;36mto_sql\u001b[0;34m(self, name, con, schema, if_exists, index, index_label, chunksize, dtype, method)\u001b[0m\n\u001b[1;32m   2949\u001b[0m         \u001b[0;32mfrom\u001b[0m \u001b[0mpandas\u001b[0m\u001b[0;34m.\u001b[0m\u001b[0mio\u001b[0m \u001b[0;32mimport\u001b[0m \u001b[0msql\u001b[0m\u001b[0;34m\u001b[0m\u001b[0;34m\u001b[0m\u001b[0m\n\u001b[1;32m   2950\u001b[0m \u001b[0;34m\u001b[0m\u001b[0m\n\u001b[0;32m-> 2951\u001b[0;31m         return sql.to_sql(\n\u001b[0m\u001b[1;32m   2952\u001b[0m             \u001b[0mself\u001b[0m\u001b[0;34m,\u001b[0m\u001b[0;34m\u001b[0m\u001b[0;34m\u001b[0m\u001b[0m\n\u001b[1;32m   2953\u001b[0m             \u001b[0mname\u001b[0m\u001b[0;34m,\u001b[0m\u001b[0;34m\u001b[0m\u001b[0;34m\u001b[0m\u001b[0m\n",
                        "\u001b[0;32m~/.local/lib/python3.9/site-packages/pandas/io/sql.py\u001b[0m in \u001b[0;36mto_sql\u001b[0;34m(frame, name, con, schema, if_exists, index, index_label, chunksize, dtype, method, engine, **engine_kwargs)\u001b[0m\n\u001b[1;32m    695\u001b[0m         )\n\u001b[1;32m    696\u001b[0m \u001b[0;34m\u001b[0m\u001b[0m\n\u001b[0;32m--> 697\u001b[0;31m     return pandas_sql.to_sql(\n\u001b[0m\u001b[1;32m    698\u001b[0m         \u001b[0mframe\u001b[0m\u001b[0;34m,\u001b[0m\u001b[0;34m\u001b[0m\u001b[0;34m\u001b[0m\u001b[0m\n\u001b[1;32m    699\u001b[0m         \u001b[0mname\u001b[0m\u001b[0;34m,\u001b[0m\u001b[0;34m\u001b[0m\u001b[0;34m\u001b[0m\u001b[0m\n",
                        "\u001b[0;32m~/.local/lib/python3.9/site-packages/pandas/io/sql.py\u001b[0m in \u001b[0;36mto_sql\u001b[0;34m(self, frame, name, if_exists, index, index_label, schema, chunksize, dtype, method, **kwargs)\u001b[0m\n\u001b[1;32m   2187\u001b[0m             \u001b[0mdtype\u001b[0m\u001b[0;34m=\u001b[0m\u001b[0mdtype\u001b[0m\u001b[0;34m,\u001b[0m\u001b[0;34m\u001b[0m\u001b[0;34m\u001b[0m\u001b[0m\n\u001b[1;32m   2188\u001b[0m         )\n\u001b[0;32m-> 2189\u001b[0;31m         \u001b[0mtable\u001b[0m\u001b[0;34m.\u001b[0m\u001b[0mcreate\u001b[0m\u001b[0;34m(\u001b[0m\u001b[0;34m)\u001b[0m\u001b[0;34m\u001b[0m\u001b[0;34m\u001b[0m\u001b[0m\n\u001b[0m\u001b[1;32m   2190\u001b[0m         \u001b[0;32mreturn\u001b[0m \u001b[0mtable\u001b[0m\u001b[0;34m.\u001b[0m\u001b[0minsert\u001b[0m\u001b[0;34m(\u001b[0m\u001b[0mchunksize\u001b[0m\u001b[0;34m,\u001b[0m \u001b[0mmethod\u001b[0m\u001b[0;34m)\u001b[0m\u001b[0;34m\u001b[0m\u001b[0;34m\u001b[0m\u001b[0m\n\u001b[1;32m   2191\u001b[0m \u001b[0;34m\u001b[0m\u001b[0m\n",
                        "\u001b[0;32m~/.local/lib/python3.9/site-packages/pandas/io/sql.py\u001b[0m in \u001b[0;36mcreate\u001b[0;34m(self)\u001b[0m\n\u001b[1;32m    831\u001b[0m         \u001b[0;32mif\u001b[0m \u001b[0mself\u001b[0m\u001b[0;34m.\u001b[0m\u001b[0mexists\u001b[0m\u001b[0;34m(\u001b[0m\u001b[0;34m)\u001b[0m\u001b[0;34m:\u001b[0m\u001b[0;34m\u001b[0m\u001b[0;34m\u001b[0m\u001b[0m\n\u001b[1;32m    832\u001b[0m             \u001b[0;32mif\u001b[0m \u001b[0mself\u001b[0m\u001b[0;34m.\u001b[0m\u001b[0mif_exists\u001b[0m \u001b[0;34m==\u001b[0m \u001b[0;34m\"fail\"\u001b[0m\u001b[0;34m:\u001b[0m\u001b[0;34m\u001b[0m\u001b[0;34m\u001b[0m\u001b[0m\n\u001b[0;32m--> 833\u001b[0;31m                 \u001b[0;32mraise\u001b[0m \u001b[0mValueError\u001b[0m\u001b[0;34m(\u001b[0m\u001b[0;34mf\"Table '{self.name}' already exists.\"\u001b[0m\u001b[0;34m)\u001b[0m\u001b[0;34m\u001b[0m\u001b[0;34m\u001b[0m\u001b[0m\n\u001b[0m\u001b[1;32m    834\u001b[0m             \u001b[0;32melif\u001b[0m \u001b[0mself\u001b[0m\u001b[0;34m.\u001b[0m\u001b[0mif_exists\u001b[0m \u001b[0;34m==\u001b[0m \u001b[0;34m\"replace\"\u001b[0m\u001b[0;34m:\u001b[0m\u001b[0;34m\u001b[0m\u001b[0;34m\u001b[0m\u001b[0m\n\u001b[1;32m    835\u001b[0m                 \u001b[0mself\u001b[0m\u001b[0;34m.\u001b[0m\u001b[0mpd_sql\u001b[0m\u001b[0;34m.\u001b[0m\u001b[0mdrop_table\u001b[0m\u001b[0;34m(\u001b[0m\u001b[0mself\u001b[0m\u001b[0;34m.\u001b[0m\u001b[0mname\u001b[0m\u001b[0;34m,\u001b[0m \u001b[0mself\u001b[0m\u001b[0;34m.\u001b[0m\u001b[0mschema\u001b[0m\u001b[0;34m)\u001b[0m\u001b[0;34m\u001b[0m\u001b[0;34m\u001b[0m\u001b[0m\n",
                        "\u001b[0;31mValueError\u001b[0m: Table 'shows' already exists."
                    ],
                    "ename": "ValueError",
                    "evalue": "Table 'shows' already exists.",
                    "output_type": "error"
                }
            ],
            "execution_count": 16
        },
        {
            "cell_type": "code",
            "source": [
                "data.head()"
            ],
            "metadata": {
                "azdata_cell_guid": "d673756a-6a85-45c7-8c14-052d48688712",
                "language": "python"
            },
            "outputs": [
                {
                    "data": {
                        "text/plain": "   ID             Title  Year  Age    IMDb Rotten Tomatoes  Netflix  Hulu  \\\n0   1      Breaking Bad  2008  18+  9.4/10         100/100        1     0   \n1   2   Stranger Things  2016  16+  8.7/10          96/100        1     0   \n2   3   Attack on Titan  2013  18+  9.0/10          95/100        1     1   \n3   4  Better Call Saul  2015  18+  8.8/10          94/100        1     0   \n4   5              Dark  2017  16+  8.8/10          93/100        1     0   \n\n   Prime Video  Disney+  Type  \n0            0        0     1  \n1            0        0     1  \n2            0        0     1  \n3            0        0     1  \n4            0        0     1  ",
                        "text/html": "<div>\n<style scoped>\n    .dataframe tbody tr th:only-of-type {\n        vertical-align: middle;\n    }\n\n    .dataframe tbody tr th {\n        vertical-align: top;\n    }\n\n    .dataframe thead th {\n        text-align: right;\n    }\n</style>\n<table border=\"1\" class=\"dataframe\">\n  <thead>\n    <tr style=\"text-align: right;\">\n      <th></th>\n      <th>ID</th>\n      <th>Title</th>\n      <th>Year</th>\n      <th>Age</th>\n      <th>IMDb</th>\n      <th>Rotten Tomatoes</th>\n      <th>Netflix</th>\n      <th>Hulu</th>\n      <th>Prime Video</th>\n      <th>Disney+</th>\n      <th>Type</th>\n    </tr>\n  </thead>\n  <tbody>\n    <tr>\n      <th>0</th>\n      <td>1</td>\n      <td>Breaking Bad</td>\n      <td>2008</td>\n      <td>18+</td>\n      <td>9.4/10</td>\n      <td>100/100</td>\n      <td>1</td>\n      <td>0</td>\n      <td>0</td>\n      <td>0</td>\n      <td>1</td>\n    </tr>\n    <tr>\n      <th>1</th>\n      <td>2</td>\n      <td>Stranger Things</td>\n      <td>2016</td>\n      <td>16+</td>\n      <td>8.7/10</td>\n      <td>96/100</td>\n      <td>1</td>\n      <td>0</td>\n      <td>0</td>\n      <td>0</td>\n      <td>1</td>\n    </tr>\n    <tr>\n      <th>2</th>\n      <td>3</td>\n      <td>Attack on Titan</td>\n      <td>2013</td>\n      <td>18+</td>\n      <td>9.0/10</td>\n      <td>95/100</td>\n      <td>1</td>\n      <td>1</td>\n      <td>0</td>\n      <td>0</td>\n      <td>1</td>\n    </tr>\n    <tr>\n      <th>3</th>\n      <td>4</td>\n      <td>Better Call Saul</td>\n      <td>2015</td>\n      <td>18+</td>\n      <td>8.8/10</td>\n      <td>94/100</td>\n      <td>1</td>\n      <td>0</td>\n      <td>0</td>\n      <td>0</td>\n      <td>1</td>\n    </tr>\n    <tr>\n      <th>4</th>\n      <td>5</td>\n      <td>Dark</td>\n      <td>2017</td>\n      <td>16+</td>\n      <td>8.8/10</td>\n      <td>93/100</td>\n      <td>1</td>\n      <td>0</td>\n      <td>0</td>\n      <td>0</td>\n      <td>1</td>\n    </tr>\n  </tbody>\n</table>\n</div>"
                    },
                    "metadata": {},
                    "execution_count": 17,
                    "output_type": "execute_result"
                }
            ],
            "execution_count": 17
        },
        {
            "cell_type": "markdown",
            "source": [
                "With your new table and database set up, print out the top 20 records in the `shows` table."
            ],
            "metadata": {
                "azdata_cell_guid": "4916f211-149f-467b-b5e4-22ad946b54f2"
            },
            "attachments": {}
        },
        {
            "cell_type": "code",
            "source": [
                "with con:\n",
                "    data = con.execute(\"SELECT * FROM [show] LIMIT 20\")\n",
                "    for row in data:\n",
                "        print(row)"
            ],
            "metadata": {
                "azdata_cell_guid": "c6aa3980-3eef-4d7d-8f04-961508662147",
                "tags": [],
                "language": "python"
            },
            "outputs": [],
            "execution_count": 23
        },
        {
            "cell_type": "markdown",
            "source": [
                "Now add a table that includes an id number and the titles on your watchlist."
            ],
            "metadata": {
                "azdata_cell_guid": "f158ccd2-c87a-4d2c-a947-0eadd0484a3e"
            },
            "attachments": {}
        },
        {
            "cell_type": "code",
            "source": [
                "with con:    \n",
                "    con.execute(\"\"\"\n",
                "    CREATE TABLE watch_list (\n",
                "        ID INTEGER PRIMARY KEY AUTOINCREMENT,\n",
                "        Title TEXT\n",
                "    );\n",
                "    \"\"\")"
            ],
            "metadata": {
                "azdata_cell_guid": "f95defad-521b-4112-8435-08daaac80b80",
                "language": "python"
            },
            "outputs": [],
            "execution_count": 24
        },
        {
            "cell_type": "code",
            "source": [
                "with con:\n",
                "    data = con.execute(\"SELECT * FROM watch_list WHERE ID <= 20\")\n",
                "    for row in data:\n",
                "        print(row)"
            ],
            "metadata": {
                "language": "python",
                "azdata_cell_guid": "65d624ab-6f69-4438-8e3c-a50896df3778"
            },
            "outputs": [],
            "execution_count": 26
        },
        {
            "cell_type": "markdown",
            "source": [
                "## Working with the Data\n",
                "\n",
                "Using either Pandas or SQL, determine how many shows are on each streaming service and what the mean is for each streaming service. \n",
                "\n",
                "**Note**: You may notice that the mean represents the percentage of shows in the dataframe that are on each streaming service. Take a moment to think about why that is."
            ],
            "metadata": {
                "azdata_cell_guid": "4716090d-63e3-4283-8245-934c4a28c750"
            },
            "attachments": {}
        },
        {
            "cell_type": "code",
            "source": [
                "data.describe()"
            ],
            "metadata": {
                "azdata_cell_guid": "8e4f3757-474f-4e20-b861-db973437b541",
                "language": "python"
            },
            "outputs": [
                {
                    "traceback": [
                        "\u001b[0;31m---------------------------------------------------------------------------\u001b[0m",
                        "\u001b[0;31mAttributeError\u001b[0m                            Traceback (most recent call last)",
                        "\u001b[0;32m/var/folders/9d/0zxf51214m19bkwdsv07cxgw0000gn/T/ipykernel_5794/3175101911.py\u001b[0m in \u001b[0;36m<module>\u001b[0;34m\u001b[0m\n\u001b[0;32m----> 1\u001b[0;31m \u001b[0mdata\u001b[0m\u001b[0;34m.\u001b[0m\u001b[0mdescribe\u001b[0m\u001b[0;34m(\u001b[0m\u001b[0;34m)\u001b[0m\u001b[0;34m\u001b[0m\u001b[0;34m\u001b[0m\u001b[0m\n\u001b[0m",
                        "\u001b[0;31mAttributeError\u001b[0m: 'sqlite3.Cursor' object has no attribute 'describe'"
                    ],
                    "ename": "AttributeError",
                    "evalue": "'sqlite3.Cursor' object has no attribute 'describe'",
                    "output_type": "error"
                }
            ],
            "execution_count": 27
        },
        {
            "cell_type": "markdown",
            "source": [
                "Join your watchlist data with the shows data to determine which streaming services your watchlist shows are on and make a new table in your database using the joined data. Print out the data in your joined table to see what shows on your watchlist on in the original dataset. With the joined data, determine the percentage of your watchlist shows that are on each streaming service and how many of your watchlist shows are on each streaming service."
            ],
            "metadata": {
                "azdata_cell_guid": "167cbd0d-ad9f-4f27-8066-e45dfdfaf421"
            },
            "attachments": {}
        },
        {
            "cell_type": "code",
            "source": [
                "# cursor = con.cursor()\n",
                "sql_statement = 'INSERT INTO watch_list (ID, title) values(?, ?)'\n",
                "katy_watch = [\n",
                "    # (1, 'Walking Dead'),\n",
                "    # (2, 'Gilmore Girls'),\n",
                "    (3, 'Ted Lasso'),\n",
                "    (4, 'Marvelous Mrs. Maisel'),\n",
                "    (5, 'Bun Heads'),\n",
                "    (6, 'The Wilds'),\n",
                "    (7, 'Stranger Things'),\n",
                "    (8, 'Breaking Bad'),\n",
                "    (9, 'Comedians In Cars Getting Coffee'),\n",
                "    (10, 'Mad Men')\n",
                "]\n",
                "\n",
                "\n",
                "# insert_records = \"INSERT INTO watch_list (ID, Title, Year, Age, IMDB, Rotten_Tomatoes, Netflix, Hulu, Prime_Video, Disney_Plus, Type) VALUES(contents)\"\n",
                "# # insert_records = \"INSERT INTO shows (Title, Year, Age, IMDB, Rotten_Tomatoes, Netflix, Hulu, Prime_Video, Disney_Plus, Type) VALUES('Breaking Bad', 2008, '18+', '9.4/10', '100/100', 1, 0, 0, 0, 1)\"\n",
                "con.executemany(sql_statement, katy_watch)"
            ],
            "metadata": {
                "azdata_cell_guid": "b871523e-a476-4f3a-a6ac-2e251f140e84",
                "language": "python"
            },
            "outputs": [
                {
                    "data": {
                        "text/plain": "<sqlite3.Cursor at 0x7fe7e0b49260>"
                    },
                    "metadata": {},
                    "execution_count": 28,
                    "output_type": "execute_result"
                }
            ],
            "execution_count": 28
        },
        {
            "cell_type": "markdown",
            "source": [
                "## Results\n",
                "\n",
                "Now that you have done your analysis, make note of the answers to the following questions by editing the text cell:\n",
                "\n",
                "1. Was every show on your watchlist in the Kaggle dataset? Do you have any ideas as to why a show might not have been present?\n",
                "2. Did you include a show or shows in your watchlist that is exclusive to one of the platforms? How might that have impacted your analysis?\n",
                "2. Which streaming service(s) offered the most shows on your watchlist? Which streaming service(s) offered the least?\n",
                "3. Based on the shows you want to watch and the results of your analysis, is there a streaming service you think would be a good fit for you?"
            ],
            "metadata": {
                "azdata_cell_guid": "909689e4-1aae-41e3-b1f8-158ebe5ec3ca"
            }
        }
    ]
}